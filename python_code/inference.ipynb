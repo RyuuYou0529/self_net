{
 "cells": [
  {
   "cell_type": "code",
   "execution_count": null,
   "metadata": {},
   "outputs": [],
   "source": [
    "import os\n",
    "import torch\n",
    "import Self_net_architecture\n",
    "import tifffile as tif\n",
    "import numpy as np"
   ]
  },
  {
   "cell_type": "code",
   "execution_count": null,
   "metadata": {},
   "outputs": [],
   "source": [
    "def tensor_info(adrr) -> None:\n",
    "    print(f'shape: {adrr.shape} \\ndtype: {adrr.dtype} \\nmax: {adrr.max()} \\nmin: {adrr.min()} \\nmean: {adrr.mean()} \\nstd: {adrr.std()}')"
   ]
  },
  {
   "cell_type": "markdown",
   "metadata": {},
   "source": [
    "# Model"
   ]
  },
  {
   "cell_type": "code",
   "execution_count": null,
   "metadata": {},
   "outputs": [],
   "source": [
    "input_nc = 1\n",
    "output_nc = 1\n",
    "device=torch.device('cuda:0')"
   ]
  },
  {
   "cell_type": "code",
   "execution_count": null,
   "metadata": {},
   "outputs": [],
   "source": [
    "deblur_net=Self_net_architecture.define_G(input_nc=input_nc, output_nc=output_nc, ngf=32, netG='care', device=device,use_dropout=False,norm='instance')\n",
    "deblur_net.load_state_dict(torch.load('/home/ryuuyou/Project/self_net/data/visor/checkpoint/saved_models/deblur_net/50_250.pkl'))"
   ]
  },
  {
   "cell_type": "markdown",
   "metadata": {},
   "source": [
    "# Data"
   ]
  },
  {
   "cell_type": "code",
   "execution_count": null,
   "metadata": {},
   "outputs": [],
   "source": [
    "data_path = '/home/ryuuyou/Project/self_net/data/visor/raw_data/test'\n",
    "data_name_list = os.listdir(data_path)\n",
    "data_name_list.sort(key=lambda name:int(name.split('.')[0]))\n",
    "\n",
    "result_save_path = '/home/ryuuyou/Project/self_net/data/visor/reconstruction_n'\n",
    "if not os.path.exists(result_save_path):\n",
    "    os.makedirs(result_save_path)"
   ]
  },
  {
   "cell_type": "code",
   "execution_count": null,
   "metadata": {},
   "outputs": [],
   "source": [
    "print(data_name_list)"
   ]
  },
  {
   "cell_type": "code",
   "execution_count": null,
   "metadata": {},
   "outputs": [],
   "source": [
    "deblur_net.eval()\n",
    "res_stack=[]\n",
    "for index, name in enumerate(data_name_list):\n",
    "    img = tif.imread(os.path.join(data_path, name))\n",
    "    img = np.expand_dims(np.expand_dims(img, axis=0), axis=0)\n",
    "    img = img.astype(np.float32)\n",
    "    img = (img - img.min())/(img.max() - img.min())\n",
    "    img_tensor = torch.from_numpy(img).to(device=device).to(torch.float32)\n",
    "    with torch.no_grad():\n",
    "        res = deblur_net(img_tensor)\n",
    "    # [x, z]\n",
    "    res_npadrr = res.squeeze_(0).squeeze_(0).cpu().numpy()\n",
    "    # res_npadrr = (res_npadrr - res_npadrr.min())/(res_npadrr.max() - res_npadrr.min())\n",
    "    tif.imwrite(os.path.join(result_save_path, name), res_npadrr)\n",
    "#     res_stack.append(res_npadrr)\n",
    "# res_stack = np.asarray(res_stack, dtype=np.float32)\n",
    "# res_stack = np.moveaxis(res_stack, -1, 0)\n",
    "# tif.imwrite(os.path.join('/home/ryuuyou/Project/self_net/data/care_liver/reconstruction_stack.tif'), res_stack)"
   ]
  },
  {
   "cell_type": "code",
   "execution_count": null,
   "metadata": {},
   "outputs": [],
   "source": []
  }
 ],
 "metadata": {
  "kernelspec": {
   "display_name": "dm",
   "language": "python",
   "name": "python3"
  },
  "language_info": {
   "codemirror_mode": {
    "name": "ipython",
    "version": 3
   },
   "file_extension": ".py",
   "mimetype": "text/x-python",
   "name": "python",
   "nbconvert_exporter": "python",
   "pygments_lexer": "ipython3",
   "version": "3.10.8"
  },
  "orig_nbformat": 4
 },
 "nbformat": 4,
 "nbformat_minor": 2
}
