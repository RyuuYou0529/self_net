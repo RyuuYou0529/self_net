{
 "cells": [
  {
   "cell_type": "code",
   "execution_count": 1,
   "metadata": {},
   "outputs": [],
   "source": [
    "import os\n",
    "import torch\n",
    "import Self_net_architecture\n",
    "import tifffile as tif\n",
    "import numpy as np"
   ]
  },
  {
   "cell_type": "markdown",
   "metadata": {},
   "source": [
    "# Model"
   ]
  },
  {
   "cell_type": "code",
   "execution_count": 2,
   "metadata": {},
   "outputs": [],
   "source": [
    "input_nc = 1\n",
    "output_nc = 1\n",
    "device=torch.device('cuda:0')"
   ]
  },
  {
   "cell_type": "code",
   "execution_count": 3,
   "metadata": {},
   "outputs": [
    {
     "name": "stdout",
     "output_type": "stream",
     "text": [
      "initialize network with normal\n"
     ]
    },
    {
     "data": {
      "text/plain": [
       "<All keys matched successfully>"
      ]
     },
     "execution_count": 3,
     "metadata": {},
     "output_type": "execute_result"
    }
   ],
   "source": [
    "deblur_net=Self_net_architecture.define_G(input_nc=input_nc, output_nc=output_nc, ngf=64, netG='deblur_net', device=device,use_dropout=False,norm='instance')\n",
    "deblur_net.load_state_dict(torch.load('/home/ryuuyou/Project/self_net/data/mouse_thy1_neuron/checkpoint/saved_models/deblur_net_60_1600.pkl'))"
   ]
  },
  {
   "cell_type": "markdown",
   "metadata": {},
   "source": [
    "# Data"
   ]
  },
  {
   "cell_type": "code",
   "execution_count": 4,
   "metadata": {},
   "outputs": [],
   "source": [
    "data_path = '/home/ryuuyou/Project/self_net/data/mouse_thy1_neuron/raw_data/xz'\n",
    "data_name_list = os.listdir(data_path)\n",
    "data_name_list.sort(key=lambda name:int(name.split('.')[0]))\n",
    "\n",
    "result_save_path = '/home/ryuuyou/Project/self_net/data/mouse_thy1_neuron/reconstruction'\n",
    "if not os.path.exists(result_save_path):\n",
    "    os.makedirs(result_save_path)"
   ]
  },
  {
   "cell_type": "code",
   "execution_count": 5,
   "metadata": {},
   "outputs": [
    {
     "name": "stdout",
     "output_type": "stream",
     "text": [
      "['1.tif', '2.tif', '3.tif', '4.tif', '5.tif', '6.tif', '7.tif', '8.tif', '9.tif', '10.tif', '11.tif', '12.tif', '13.tif', '14.tif', '15.tif', '16.tif', '17.tif', '18.tif', '19.tif', '20.tif', '21.tif', '22.tif', '23.tif', '24.tif', '25.tif', '26.tif', '27.tif', '28.tif', '29.tif', '30.tif', '31.tif', '32.tif', '33.tif', '34.tif', '35.tif', '36.tif', '37.tif', '38.tif', '39.tif', '40.tif', '41.tif', '42.tif', '43.tif', '44.tif', '45.tif', '46.tif', '47.tif', '48.tif', '49.tif', '50.tif', '51.tif', '52.tif', '53.tif', '54.tif', '55.tif', '56.tif', '57.tif', '58.tif', '59.tif', '60.tif', '61.tif', '62.tif', '63.tif', '64.tif', '65.tif', '66.tif', '67.tif', '68.tif', '69.tif', '70.tif', '71.tif', '72.tif', '73.tif', '74.tif', '75.tif', '76.tif', '77.tif', '78.tif', '79.tif', '80.tif', '81.tif', '82.tif', '83.tif', '84.tif', '85.tif', '86.tif', '87.tif', '88.tif', '89.tif', '90.tif', '91.tif', '92.tif', '93.tif', '94.tif', '95.tif', '96.tif', '97.tif', '98.tif', '99.tif', '100.tif', '101.tif', '102.tif', '103.tif', '104.tif', '105.tif', '106.tif', '107.tif', '108.tif', '109.tif', '110.tif', '111.tif', '112.tif', '113.tif', '114.tif', '115.tif', '116.tif', '117.tif', '118.tif', '119.tif', '120.tif', '121.tif', '122.tif', '123.tif', '124.tif', '125.tif', '126.tif', '127.tif', '128.tif', '129.tif', '130.tif', '131.tif', '132.tif', '133.tif', '134.tif', '135.tif', '136.tif', '137.tif', '138.tif', '139.tif', '140.tif', '141.tif', '142.tif', '143.tif', '144.tif', '145.tif', '146.tif', '147.tif', '148.tif', '149.tif', '150.tif', '151.tif', '152.tif', '153.tif', '154.tif', '155.tif', '156.tif', '157.tif', '158.tif', '159.tif', '160.tif', '161.tif', '162.tif', '163.tif', '164.tif', '165.tif', '166.tif', '167.tif', '168.tif', '169.tif', '170.tif', '171.tif', '172.tif', '173.tif', '174.tif', '175.tif', '176.tif', '177.tif', '178.tif', '179.tif', '180.tif', '181.tif', '182.tif', '183.tif', '184.tif', '185.tif', '186.tif', '187.tif', '188.tif', '189.tif', '190.tif', '191.tif', '192.tif', '193.tif', '194.tif', '195.tif', '196.tif', '197.tif', '198.tif', '199.tif', '200.tif', '201.tif', '202.tif', '203.tif', '204.tif', '205.tif', '206.tif', '207.tif', '208.tif', '209.tif', '210.tif', '211.tif', '212.tif', '213.tif', '214.tif', '215.tif', '216.tif', '217.tif', '218.tif', '219.tif', '220.tif', '221.tif', '222.tif', '223.tif', '224.tif', '225.tif', '226.tif', '227.tif', '228.tif', '229.tif', '230.tif', '231.tif', '232.tif', '233.tif', '234.tif', '235.tif', '236.tif', '237.tif', '238.tif', '239.tif', '240.tif', '241.tif', '242.tif', '243.tif', '244.tif', '245.tif', '246.tif', '247.tif', '248.tif', '249.tif', '250.tif', '251.tif', '252.tif', '253.tif', '254.tif', '255.tif', '256.tif', '257.tif', '258.tif', '259.tif', '260.tif', '261.tif', '262.tif', '263.tif', '264.tif', '265.tif', '266.tif', '267.tif', '268.tif', '269.tif', '270.tif', '271.tif', '272.tif', '273.tif', '274.tif', '275.tif', '276.tif', '277.tif', '278.tif', '279.tif', '280.tif', '281.tif', '282.tif', '283.tif', '284.tif', '285.tif', '286.tif', '287.tif', '288.tif', '289.tif', '290.tif', '291.tif', '292.tif', '293.tif', '294.tif', '295.tif', '296.tif', '297.tif', '298.tif', '299.tif', '300.tif', '301.tif', '302.tif', '303.tif', '304.tif', '305.tif', '306.tif', '307.tif', '308.tif', '309.tif', '310.tif', '311.tif', '312.tif', '313.tif', '314.tif', '315.tif', '316.tif', '317.tif', '318.tif', '319.tif', '320.tif', '321.tif', '322.tif', '323.tif', '324.tif', '325.tif', '326.tif', '327.tif', '328.tif', '329.tif', '330.tif', '331.tif', '332.tif', '333.tif', '334.tif', '335.tif', '336.tif', '337.tif', '338.tif', '339.tif', '340.tif', '341.tif', '342.tif', '343.tif', '344.tif', '345.tif', '346.tif', '347.tif', '348.tif', '349.tif', '350.tif', '351.tif', '352.tif', '353.tif', '354.tif', '355.tif', '356.tif', '357.tif', '358.tif', '359.tif', '360.tif', '361.tif', '362.tif', '363.tif', '364.tif', '365.tif', '366.tif', '367.tif', '368.tif', '369.tif', '370.tif', '371.tif', '372.tif', '373.tif', '374.tif', '375.tif', '376.tif', '377.tif', '378.tif', '379.tif', '380.tif', '381.tif', '382.tif', '383.tif', '384.tif', '385.tif', '386.tif', '387.tif', '388.tif', '389.tif', '390.tif', '391.tif', '392.tif', '393.tif', '394.tif', '395.tif', '396.tif', '397.tif', '398.tif', '399.tif', '400.tif', '401.tif', '402.tif', '403.tif', '404.tif', '405.tif', '406.tif', '407.tif', '408.tif', '409.tif', '410.tif', '411.tif', '412.tif', '413.tif', '414.tif', '415.tif', '416.tif', '417.tif', '418.tif', '419.tif', '420.tif', '421.tif', '422.tif', '423.tif', '424.tif', '425.tif', '426.tif', '427.tif', '428.tif', '429.tif', '430.tif', '431.tif', '432.tif', '433.tif', '434.tif', '435.tif', '436.tif', '437.tif', '438.tif', '439.tif', '440.tif', '441.tif', '442.tif', '443.tif', '444.tif', '445.tif', '446.tif', '447.tif', '448.tif', '449.tif', '450.tif', '451.tif', '452.tif', '453.tif', '454.tif', '455.tif', '456.tif', '457.tif', '458.tif', '459.tif', '460.tif', '461.tif', '462.tif', '463.tif', '464.tif', '465.tif', '466.tif', '467.tif', '468.tif', '469.tif', '470.tif', '471.tif', '472.tif', '473.tif', '474.tif', '475.tif', '476.tif', '477.tif', '478.tif', '479.tif', '480.tif', '481.tif', '482.tif', '483.tif', '484.tif', '485.tif', '486.tif', '487.tif', '488.tif', '489.tif', '490.tif', '491.tif', '492.tif', '493.tif', '494.tif', '495.tif', '496.tif', '497.tif', '498.tif', '499.tif', '500.tif', '501.tif', '502.tif', '503.tif', '504.tif', '505.tif', '506.tif', '507.tif', '508.tif', '509.tif', '510.tif', '511.tif', '512.tif', '513.tif', '514.tif', '515.tif', '516.tif', '517.tif', '518.tif', '519.tif', '520.tif', '521.tif', '522.tif', '523.tif', '524.tif', '525.tif', '526.tif', '527.tif', '528.tif', '529.tif', '530.tif', '531.tif', '532.tif', '533.tif', '534.tif', '535.tif', '536.tif', '537.tif', '538.tif', '539.tif', '540.tif', '541.tif', '542.tif', '543.tif', '544.tif', '545.tif', '546.tif', '547.tif', '548.tif', '549.tif', '550.tif', '551.tif', '552.tif', '553.tif', '554.tif', '555.tif', '556.tif', '557.tif', '558.tif', '559.tif', '560.tif', '561.tif', '562.tif', '563.tif', '564.tif', '565.tif', '566.tif', '567.tif', '568.tif', '569.tif', '570.tif', '571.tif', '572.tif', '573.tif', '574.tif', '575.tif', '576.tif', '577.tif', '578.tif', '579.tif', '580.tif', '581.tif', '582.tif', '583.tif', '584.tif', '585.tif', '586.tif', '587.tif', '588.tif', '589.tif', '590.tif', '591.tif', '592.tif', '593.tif', '594.tif', '595.tif', '596.tif', '597.tif', '598.tif', '599.tif', '600.tif', '601.tif', '602.tif', '603.tif', '604.tif', '605.tif', '606.tif', '607.tif', '608.tif', '609.tif', '610.tif', '611.tif', '612.tif', '613.tif', '614.tif', '615.tif', '616.tif', '617.tif', '618.tif', '619.tif', '620.tif', '621.tif', '622.tif', '623.tif', '624.tif', '625.tif', '626.tif', '627.tif', '628.tif', '629.tif', '630.tif', '631.tif', '632.tif', '633.tif', '634.tif', '635.tif', '636.tif', '637.tif', '638.tif', '639.tif', '640.tif', '641.tif', '642.tif', '643.tif', '644.tif', '645.tif', '646.tif', '647.tif', '648.tif', '649.tif', '650.tif', '651.tif', '652.tif', '653.tif', '654.tif', '655.tif', '656.tif', '657.tif', '658.tif', '659.tif', '660.tif', '661.tif', '662.tif', '663.tif', '664.tif', '665.tif', '666.tif', '667.tif', '668.tif', '669.tif', '670.tif', '671.tif', '672.tif', '673.tif', '674.tif', '675.tif', '676.tif', '677.tif', '678.tif', '679.tif', '680.tif', '681.tif', '682.tif', '683.tif', '684.tif', '685.tif', '686.tif', '687.tif', '688.tif', '689.tif', '690.tif', '691.tif', '692.tif', '693.tif', '694.tif', '695.tif', '696.tif', '697.tif', '698.tif', '699.tif', '700.tif', '701.tif', '702.tif', '703.tif', '704.tif', '705.tif', '706.tif', '707.tif', '708.tif', '709.tif', '710.tif', '711.tif', '712.tif', '713.tif', '714.tif', '715.tif', '716.tif', '717.tif', '718.tif', '719.tif', '720.tif', '721.tif', '722.tif', '723.tif', '724.tif', '725.tif', '726.tif', '727.tif', '728.tif', '729.tif', '730.tif', '731.tif', '732.tif', '733.tif', '734.tif', '735.tif', '736.tif', '737.tif', '738.tif', '739.tif', '740.tif', '741.tif', '742.tif', '743.tif', '744.tif', '745.tif', '746.tif', '747.tif', '748.tif', '749.tif', '750.tif', '751.tif', '752.tif', '753.tif', '754.tif', '755.tif', '756.tif', '757.tif', '758.tif', '759.tif', '760.tif', '761.tif', '762.tif', '763.tif', '764.tif', '765.tif', '766.tif', '767.tif', '768.tif', '769.tif', '770.tif', '771.tif', '772.tif', '773.tif', '774.tif', '775.tif', '776.tif', '777.tif', '778.tif', '779.tif', '780.tif', '781.tif', '782.tif', '783.tif', '784.tif', '785.tif', '786.tif', '787.tif', '788.tif', '789.tif', '790.tif', '791.tif', '792.tif', '793.tif', '794.tif', '795.tif', '796.tif', '797.tif', '798.tif', '799.tif', '800.tif', '801.tif', '802.tif', '803.tif', '804.tif', '805.tif', '806.tif', '807.tif', '808.tif', '809.tif', '810.tif', '811.tif', '812.tif', '813.tif', '814.tif', '815.tif', '816.tif', '817.tif', '818.tif', '819.tif', '820.tif', '821.tif', '822.tif', '823.tif', '824.tif', '825.tif', '826.tif', '827.tif', '828.tif', '829.tif', '830.tif', '831.tif', '832.tif', '833.tif', '834.tif', '835.tif', '836.tif', '837.tif', '838.tif', '839.tif', '840.tif', '841.tif', '842.tif', '843.tif', '844.tif', '845.tif', '846.tif', '847.tif', '848.tif', '849.tif', '850.tif', '851.tif', '852.tif', '853.tif', '854.tif', '855.tif', '856.tif', '857.tif', '858.tif', '859.tif', '860.tif', '861.tif', '862.tif', '863.tif', '864.tif', '865.tif', '866.tif', '867.tif', '868.tif', '869.tif', '870.tif', '871.tif', '872.tif', '873.tif', '874.tif', '875.tif', '876.tif', '877.tif', '878.tif', '879.tif', '880.tif', '881.tif', '882.tif', '883.tif', '884.tif', '885.tif', '886.tif', '887.tif', '888.tif', '889.tif', '890.tif', '891.tif', '892.tif', '893.tif', '894.tif', '895.tif', '896.tif', '897.tif', '898.tif', '899.tif', '900.tif', '901.tif', '902.tif', '903.tif', '904.tif', '905.tif', '906.tif', '907.tif', '908.tif', '909.tif', '910.tif', '911.tif', '912.tif', '913.tif', '914.tif', '915.tif', '916.tif', '917.tif', '918.tif', '919.tif', '920.tif', '921.tif', '922.tif', '923.tif', '924.tif', '925.tif', '926.tif', '927.tif', '928.tif', '929.tif', '930.tif', '931.tif', '932.tif', '933.tif', '934.tif', '935.tif', '936.tif', '937.tif', '938.tif', '939.tif', '940.tif', '941.tif', '942.tif', '943.tif', '944.tif', '945.tif', '946.tif', '947.tif', '948.tif', '949.tif', '950.tif', '951.tif', '952.tif', '953.tif', '954.tif', '955.tif', '956.tif', '957.tif', '958.tif', '959.tif', '960.tif', '961.tif', '962.tif', '963.tif', '964.tif', '965.tif', '966.tif', '967.tif', '968.tif', '969.tif', '970.tif', '971.tif', '972.tif', '973.tif', '974.tif', '975.tif', '976.tif', '977.tif', '978.tif', '979.tif', '980.tif', '981.tif', '982.tif', '983.tif', '984.tif', '985.tif', '986.tif', '987.tif', '988.tif', '989.tif', '990.tif', '991.tif', '992.tif', '993.tif', '994.tif', '995.tif', '996.tif', '997.tif', '998.tif', '999.tif', '1000.tif', '1001.tif', '1002.tif', '1003.tif', '1004.tif', '1005.tif', '1006.tif', '1007.tif', '1008.tif', '1009.tif', '1010.tif', '1011.tif', '1012.tif', '1013.tif', '1014.tif', '1015.tif', '1016.tif', '1017.tif', '1018.tif', '1019.tif', '1020.tif', '1021.tif', '1022.tif', '1023.tif', '1024.tif']\n"
     ]
    }
   ],
   "source": [
    "print(data_name_list)"
   ]
  },
  {
   "cell_type": "code",
   "execution_count": 7,
   "metadata": {},
   "outputs": [],
   "source": [
    "deblur_net.eval()\n",
    "res_stack=[]\n",
    "for index, name in enumerate(data_name_list):\n",
    "    img = tif.imread(os.path.join(data_path, name))\n",
    "    img = np.expand_dims(np.expand_dims(img, axis=0), axis=0)\n",
    "    img = img.astype(np.float32)\n",
    "    img_tensor = torch.from_numpy(img).to(device=device).to(torch.float32)\n",
    "    with torch.no_grad():\n",
    "        res = deblur_net(img_tensor)\n",
    "    # [x, z]\n",
    "    res_npadrr = res.squeeze_(0).squeeze_(0).cpu().numpy()\n",
    "    tif.imwrite(os.path.join(result_save_path, name), res_npadrr)\n",
    "    res_stack.append(res_npadrr)\n",
    "res_stack = np.asarray(res_stack, dtype=np.float32)\n",
    "res_stack = np.moveaxis(res_stack, -1, 0)\n",
    "tif.imwrite(os.path.join('/home/ryuuyou/Project/self_net/data/mouse_thy1_neuron/reconstruction_stack.tif'), res_stack)"
   ]
  },
  {
   "cell_type": "code",
   "execution_count": null,
   "metadata": {},
   "outputs": [],
   "source": []
  }
 ],
 "metadata": {
  "kernelspec": {
   "display_name": "dm",
   "language": "python",
   "name": "python3"
  },
  "language_info": {
   "codemirror_mode": {
    "name": "ipython",
    "version": 3
   },
   "file_extension": ".py",
   "mimetype": "text/x-python",
   "name": "python",
   "nbconvert_exporter": "python",
   "pygments_lexer": "ipython3",
   "version": "3.10.8"
  },
  "orig_nbformat": 4
 },
 "nbformat": 4,
 "nbformat_minor": 2
}
