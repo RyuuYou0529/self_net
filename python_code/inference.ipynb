{
 "cells": [
  {
   "cell_type": "code",
   "execution_count": 1,
   "metadata": {},
   "outputs": [],
   "source": [
    "import os\n",
    "import torch\n",
    "import Self_net_architecture\n",
    "import tifffile as tif\n",
    "import numpy as np"
   ]
  },
  {
   "cell_type": "code",
   "execution_count": 2,
   "metadata": {},
   "outputs": [],
   "source": [
    "def tensor_info(adrr) -> None:\n",
    "    print(f'shape: {adrr.shape} \\ndtype: {adrr.dtype} \\nmax: {adrr.max()} \\nmin: {adrr.min()} \\nmean: {adrr.mean()} \\nstd: {adrr.std()}')"
   ]
  },
  {
   "cell_type": "markdown",
   "metadata": {},
   "source": [
    "# Model"
   ]
  },
  {
   "cell_type": "code",
   "execution_count": 3,
   "metadata": {},
   "outputs": [],
   "source": [
    "input_nc = 1\n",
    "output_nc = 1\n",
    "device=torch.device('cuda:0')"
   ]
  },
  {
   "cell_type": "code",
   "execution_count": 4,
   "metadata": {},
   "outputs": [
    {
     "name": "stdout",
     "output_type": "stream",
     "text": [
      "initialize network with normal\n"
     ]
    },
    {
     "data": {
      "text/plain": [
       "<All keys matched successfully>"
      ]
     },
     "execution_count": 4,
     "metadata": {},
     "output_type": "execute_result"
    }
   ],
   "source": [
    "deblur_net=Self_net_architecture.define_G(input_nc=input_nc, output_nc=output_nc, ngf=32, netG='mwcnn', device=device,use_dropout=False,norm='instance')\n",
    "deblur_net.load_state_dict(torch.load('/home/ryuuyou/Project/self_net/data/visor/checkpoint/saved_models/deblur_net/50_250.pkl'))"
   ]
  },
  {
   "cell_type": "markdown",
   "metadata": {},
   "source": [
    "# Data"
   ]
  },
  {
   "cell_type": "code",
   "execution_count": 5,
   "metadata": {},
   "outputs": [],
   "source": [
    "data_path = '/home/ryuuyou/Project/self_net/data/visor/raw_data/test'\n",
    "data_name_list = os.listdir(data_path)\n",
    "data_name_list.sort(key=lambda name:int(name.split('.')[0]))\n",
    "\n",
    "result_save_path = '/home/ryuuyou/Project/self_net/data/visor/reconstruction'\n",
    "if not os.path.exists(result_save_path):\n",
    "    os.makedirs(result_save_path)"
   ]
  },
  {
   "cell_type": "code",
   "execution_count": 6,
   "metadata": {},
   "outputs": [
    {
     "name": "stdout",
     "output_type": "stream",
     "text": [
      "['1000.tif', '1001.tif', '1002.tif', '1003.tif', '1004.tif', '1005.tif', '1006.tif', '1007.tif', '1008.tif', '1009.tif', '1010.tif', '1011.tif', '1012.tif', '1013.tif', '1014.tif', '1015.tif', '1016.tif']\n"
     ]
    }
   ],
   "source": [
    "print(data_name_list)"
   ]
  },
  {
   "cell_type": "code",
   "execution_count": 7,
   "metadata": {},
   "outputs": [],
   "source": [
    "deblur_net.eval()\n",
    "res_stack=[]\n",
    "for index, name in enumerate(data_name_list):\n",
    "    img = tif.imread(os.path.join(data_path, name))\n",
    "    img = np.expand_dims(np.expand_dims(img, axis=0), axis=0)\n",
    "    img = img.astype(np.float32)\n",
    "    img = (img - img.min())/(img.max() - img.min())\n",
    "    img_tensor = torch.from_numpy(img).to(device=device).to(torch.float32)\n",
    "    with torch.no_grad():\n",
    "        res = deblur_net(img_tensor)\n",
    "    res_npadrr = res.squeeze_(0).squeeze_(0).cpu().numpy()\n",
    "    tif.imwrite(os.path.join(result_save_path, name), res_npadrr)"
   ]
  },
  {
   "cell_type": "code",
   "execution_count": null,
   "metadata": {},
   "outputs": [],
   "source": []
  }
 ],
 "metadata": {
  "kernelspec": {
   "display_name": "dm",
   "language": "python",
   "name": "python3"
  },
  "language_info": {
   "codemirror_mode": {
    "name": "ipython",
    "version": 3
   },
   "file_extension": ".py",
   "mimetype": "text/x-python",
   "name": "python",
   "nbconvert_exporter": "python",
   "pygments_lexer": "ipython3",
   "version": "3.10.8"
  },
  "orig_nbformat": 4
 },
 "nbformat": 4,
 "nbformat_minor": 2
}
