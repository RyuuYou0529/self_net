{
 "cells": [
  {
   "cell_type": "code",
   "execution_count": 5,
   "metadata": {},
   "outputs": [],
   "source": [
    "import os\n",
    "import torch\n",
    "import Self_net_architecture\n",
    "import tifffile as tif\n",
    "import numpy as np\n",
    "\n",
    "from csbdeep.utils import plot_some\n",
    "\n",
    "from torchsummary import summary\n",
    "import pytorch_dataset"
   ]
  },
  {
   "cell_type": "code",
   "execution_count": 7,
   "metadata": {},
   "outputs": [],
   "source": [
    "input_nc = 1\n",
    "output_nc = 1\n",
    "device=torch.device('cuda:0')"
   ]
  },
  {
   "cell_type": "code",
   "execution_count": 8,
   "metadata": {},
   "outputs": [
    {
     "name": "stdout",
     "output_type": "stream",
     "text": [
      "initialize network with normal\n"
     ]
    }
   ],
   "source": [
    "G_A=Self_net_architecture.define_G(input_nc=input_nc, output_nc=output_nc, ngf=32, netG='care', device=device,use_dropout=False,norm='instance')"
   ]
  },
  {
   "cell_type": "code",
   "execution_count": 9,
   "metadata": {},
   "outputs": [],
   "source": [
    "input_data = torch.rand((1,1,128,128,128))"
   ]
  },
  {
   "cell_type": "code",
   "execution_count": 10,
   "metadata": {},
   "outputs": [
    {
     "name": "stdout",
     "output_type": "stream",
     "text": [
      "==========================================================================================\n",
      "Layer (type:depth-idx)                   Output Shape              Param #\n",
      "==========================================================================================\n",
      "├─Sequential: 1-1                        [-1, 32, 128, 128, 128]   --\n",
      "|    └─Conv3d: 2-1                       [-1, 32, 128, 128, 128]   896\n",
      "|    └─LeakyReLU: 2-2                    [-1, 32, 128, 128, 128]   --\n",
      "├─Sequential: 1                          []                        --\n",
      "|    └─LeakyReLU: 2-3                    [-1, 32, 128, 128, 128]   --\n",
      "├─Sequential: 1                          []                        --\n",
      "|    └─LeakyReLU: 2-4                    [-1, 32, 128, 128, 128]   --\n",
      "├─Sequential: 1                          []                        --\n",
      "|    └─Conv3d: 2-5                       [-1, 32, 128, 128, 128]   27,680\n",
      "|    └─InstanceNorm3d: 2-6               [-1, 32, 128, 128, 128]   --\n",
      "|    └─LeakyReLU: 2-7                    [-1, 32, 128, 128, 128]   --\n",
      "├─Sequential: 1                          []                        --\n",
      "|    └─LeakyReLU: 2-8                    [-1, 32, 128, 128, 128]   --\n",
      "├─Sequential: 1                          []                        --\n",
      "|    └─LeakyReLU: 2-9                    [-1, 32, 128, 128, 128]   --\n",
      "├─MaxPool3d: 1-2                         [-1, 32, 64, 64, 64]      --\n",
      "├─Sequential: 1-3                        [-1, 64, 64, 64, 64]      --\n",
      "|    └─Conv3d: 2-10                      [-1, 64, 64, 64, 64]      55,360\n",
      "|    └─InstanceNorm3d: 2-11              [-1, 64, 64, 64, 64]      --\n",
      "├─Sequential: 1                          []                        --\n",
      "|    └─LeakyReLU: 2-12                   [-1, 64, 64, 64, 64]      --\n",
      "├─Sequential: 1                          []                        --\n",
      "|    └─LeakyReLU: 2-13                   [-1, 64, 64, 64, 64]      --\n",
      "├─Sequential: 1                          []                        --\n",
      "|    └─LeakyReLU: 2-14                   [-1, 64, 64, 64, 64]      --\n",
      "├─Sequential: 1                          []                        --\n",
      "|    └─Conv3d: 2-15                      [-1, 64, 64, 64, 64]      110,656\n",
      "|    └─InstanceNorm3d: 2-16              [-1, 64, 64, 64, 64]      --\n",
      "├─Sequential: 1                          []                        --\n",
      "|    └─LeakyReLU: 2-17                   [-1, 64, 64, 64, 64]      --\n",
      "├─Sequential: 1                          []                        --\n",
      "|    └─LeakyReLU: 2-18                   [-1, 64, 64, 64, 64]      --\n",
      "├─Sequential: 1                          []                        --\n",
      "|    └─LeakyReLU: 2-19                   [-1, 64, 64, 64, 64]      --\n",
      "├─MaxPool3d: 1-4                         [-1, 64, 32, 32, 32]      --\n",
      "├─Sequential: 1-5                        [-1, 64, 32, 32, 32]      --\n",
      "|    └─Conv3d: 2-20                      [-1, 128, 32, 32, 32]     221,312\n",
      "|    └─InstanceNorm3d: 2-21              [-1, 128, 32, 32, 32]     --\n",
      "├─Sequential: 1                          []                        --\n",
      "|    └─LeakyReLU: 2-22                   [-1, 128, 32, 32, 32]     --\n",
      "├─Sequential: 1                          []                        --\n",
      "|    └─LeakyReLU: 2-23                   [-1, 128, 32, 32, 32]     --\n",
      "├─Sequential: 1                          []                        --\n",
      "|    └─LeakyReLU: 2-24                   [-1, 128, 32, 32, 32]     --\n",
      "|    └─Conv3d: 2-25                      [-1, 64, 32, 32, 32]      221,248\n",
      "|    └─InstanceNorm3d: 2-26              [-1, 64, 32, 32, 32]      --\n",
      "├─Sequential: 1                          []                        --\n",
      "|    └─LeakyReLU: 2-27                   [-1, 64, 32, 32, 32]      --\n",
      "├─Sequential: 1                          []                        --\n",
      "|    └─LeakyReLU: 2-28                   [-1, 64, 32, 32, 32]      --\n",
      "├─Sequential: 1                          []                        --\n",
      "|    └─LeakyReLU: 2-29                   [-1, 64, 32, 32, 32]      --\n",
      "├─Upsample: 1-6                          [-1, 64, 64, 64, 64]      --\n",
      "├─Sequential: 1-7                        [-1, 32, 64, 64, 64]      --\n",
      "|    └─Conv3d: 2-30                      [-1, 64, 64, 64, 64]      221,248\n",
      "|    └─InstanceNorm3d: 2-31              [-1, 64, 64, 64, 64]      --\n",
      "|    └─ReLU: 2-32                        [-1, 64, 64, 64, 64]      --\n",
      "├─Sequential: 1                          []                        --\n",
      "|    └─ReLU: 2-33                        [-1, 64, 64, 64, 64]      --\n",
      "├─Sequential: 1                          []                        --\n",
      "|    └─Conv3d: 2-34                      [-1, 32, 64, 64, 64]      55,328\n",
      "|    └─InstanceNorm3d: 2-35              [-1, 32, 64, 64, 64]      --\n",
      "|    └─ReLU: 2-36                        [-1, 32, 64, 64, 64]      --\n",
      "├─Sequential: 1                          []                        --\n",
      "|    └─ReLU: 2-37                        [-1, 32, 64, 64, 64]      --\n",
      "├─Upsample: 1-8                          [-1, 32, 128, 128, 128]   --\n",
      "├─Sequential: 1-9                        [-1, 32, 128, 128, 128]   --\n",
      "|    └─Conv3d: 2-38                      [-1, 32, 128, 128, 128]   55,328\n",
      "|    └─InstanceNorm3d: 2-39              [-1, 32, 128, 128, 128]   --\n",
      "├─Sequential: 1                          []                        --\n",
      "|    └─ReLU: 2-40                        [-1, 32, 128, 128, 128]   --\n",
      "├─Sequential: 1                          []                        --\n",
      "|    └─ReLU: 2-41                        [-1, 32, 128, 128, 128]   --\n",
      "|    └─Conv3d: 2-42                      [-1, 32, 128, 128, 128]   27,680\n",
      "|    └─InstanceNorm3d: 2-43              [-1, 32, 128, 128, 128]   --\n",
      "├─Sequential: 1                          []                        --\n",
      "|    └─ReLU: 2-44                        [-1, 32, 128, 128, 128]   --\n",
      "├─Sequential: 1                          []                        --\n",
      "|    └─ReLU: 2-45                        [-1, 32, 128, 128, 128]   --\n",
      "├─Conv3d: 1-10                           [-1, 1, 128, 128, 128]    865\n",
      "==========================================================================================\n",
      "Total params: 997,601\n",
      "Trainable params: 997,601\n",
      "Non-trainable params: 0\n",
      "Total mult-adds (G): 366.01\n",
      "==========================================================================================\n",
      "Input size (MB): 8.00\n",
      "Forward/backward pass size (MB): 2560.00\n",
      "Params size (MB): 3.81\n",
      "Estimated Total Size (MB): 2571.81\n",
      "==========================================================================================\n"
     ]
    },
    {
     "data": {
      "text/plain": [
       "==========================================================================================\n",
       "Layer (type:depth-idx)                   Output Shape              Param #\n",
       "==========================================================================================\n",
       "├─Sequential: 1-1                        [-1, 32, 128, 128, 128]   --\n",
       "|    └─Conv3d: 2-1                       [-1, 32, 128, 128, 128]   896\n",
       "|    └─LeakyReLU: 2-2                    [-1, 32, 128, 128, 128]   --\n",
       "├─Sequential: 1                          []                        --\n",
       "|    └─LeakyReLU: 2-3                    [-1, 32, 128, 128, 128]   --\n",
       "├─Sequential: 1                          []                        --\n",
       "|    └─LeakyReLU: 2-4                    [-1, 32, 128, 128, 128]   --\n",
       "├─Sequential: 1                          []                        --\n",
       "|    └─Conv3d: 2-5                       [-1, 32, 128, 128, 128]   27,680\n",
       "|    └─InstanceNorm3d: 2-6               [-1, 32, 128, 128, 128]   --\n",
       "|    └─LeakyReLU: 2-7                    [-1, 32, 128, 128, 128]   --\n",
       "├─Sequential: 1                          []                        --\n",
       "|    └─LeakyReLU: 2-8                    [-1, 32, 128, 128, 128]   --\n",
       "├─Sequential: 1                          []                        --\n",
       "|    └─LeakyReLU: 2-9                    [-1, 32, 128, 128, 128]   --\n",
       "├─MaxPool3d: 1-2                         [-1, 32, 64, 64, 64]      --\n",
       "├─Sequential: 1-3                        [-1, 64, 64, 64, 64]      --\n",
       "|    └─Conv3d: 2-10                      [-1, 64, 64, 64, 64]      55,360\n",
       "|    └─InstanceNorm3d: 2-11              [-1, 64, 64, 64, 64]      --\n",
       "├─Sequential: 1                          []                        --\n",
       "|    └─LeakyReLU: 2-12                   [-1, 64, 64, 64, 64]      --\n",
       "├─Sequential: 1                          []                        --\n",
       "|    └─LeakyReLU: 2-13                   [-1, 64, 64, 64, 64]      --\n",
       "├─Sequential: 1                          []                        --\n",
       "|    └─LeakyReLU: 2-14                   [-1, 64, 64, 64, 64]      --\n",
       "├─Sequential: 1                          []                        --\n",
       "|    └─Conv3d: 2-15                      [-1, 64, 64, 64, 64]      110,656\n",
       "|    └─InstanceNorm3d: 2-16              [-1, 64, 64, 64, 64]      --\n",
       "├─Sequential: 1                          []                        --\n",
       "|    └─LeakyReLU: 2-17                   [-1, 64, 64, 64, 64]      --\n",
       "├─Sequential: 1                          []                        --\n",
       "|    └─LeakyReLU: 2-18                   [-1, 64, 64, 64, 64]      --\n",
       "├─Sequential: 1                          []                        --\n",
       "|    └─LeakyReLU: 2-19                   [-1, 64, 64, 64, 64]      --\n",
       "├─MaxPool3d: 1-4                         [-1, 64, 32, 32, 32]      --\n",
       "├─Sequential: 1-5                        [-1, 64, 32, 32, 32]      --\n",
       "|    └─Conv3d: 2-20                      [-1, 128, 32, 32, 32]     221,312\n",
       "|    └─InstanceNorm3d: 2-21              [-1, 128, 32, 32, 32]     --\n",
       "├─Sequential: 1                          []                        --\n",
       "|    └─LeakyReLU: 2-22                   [-1, 128, 32, 32, 32]     --\n",
       "├─Sequential: 1                          []                        --\n",
       "|    └─LeakyReLU: 2-23                   [-1, 128, 32, 32, 32]     --\n",
       "├─Sequential: 1                          []                        --\n",
       "|    └─LeakyReLU: 2-24                   [-1, 128, 32, 32, 32]     --\n",
       "|    └─Conv3d: 2-25                      [-1, 64, 32, 32, 32]      221,248\n",
       "|    └─InstanceNorm3d: 2-26              [-1, 64, 32, 32, 32]      --\n",
       "├─Sequential: 1                          []                        --\n",
       "|    └─LeakyReLU: 2-27                   [-1, 64, 32, 32, 32]      --\n",
       "├─Sequential: 1                          []                        --\n",
       "|    └─LeakyReLU: 2-28                   [-1, 64, 32, 32, 32]      --\n",
       "├─Sequential: 1                          []                        --\n",
       "|    └─LeakyReLU: 2-29                   [-1, 64, 32, 32, 32]      --\n",
       "├─Upsample: 1-6                          [-1, 64, 64, 64, 64]      --\n",
       "├─Sequential: 1-7                        [-1, 32, 64, 64, 64]      --\n",
       "|    └─Conv3d: 2-30                      [-1, 64, 64, 64, 64]      221,248\n",
       "|    └─InstanceNorm3d: 2-31              [-1, 64, 64, 64, 64]      --\n",
       "|    └─ReLU: 2-32                        [-1, 64, 64, 64, 64]      --\n",
       "├─Sequential: 1                          []                        --\n",
       "|    └─ReLU: 2-33                        [-1, 64, 64, 64, 64]      --\n",
       "├─Sequential: 1                          []                        --\n",
       "|    └─Conv3d: 2-34                      [-1, 32, 64, 64, 64]      55,328\n",
       "|    └─InstanceNorm3d: 2-35              [-1, 32, 64, 64, 64]      --\n",
       "|    └─ReLU: 2-36                        [-1, 32, 64, 64, 64]      --\n",
       "├─Sequential: 1                          []                        --\n",
       "|    └─ReLU: 2-37                        [-1, 32, 64, 64, 64]      --\n",
       "├─Upsample: 1-8                          [-1, 32, 128, 128, 128]   --\n",
       "├─Sequential: 1-9                        [-1, 32, 128, 128, 128]   --\n",
       "|    └─Conv3d: 2-38                      [-1, 32, 128, 128, 128]   55,328\n",
       "|    └─InstanceNorm3d: 2-39              [-1, 32, 128, 128, 128]   --\n",
       "├─Sequential: 1                          []                        --\n",
       "|    └─ReLU: 2-40                        [-1, 32, 128, 128, 128]   --\n",
       "├─Sequential: 1                          []                        --\n",
       "|    └─ReLU: 2-41                        [-1, 32, 128, 128, 128]   --\n",
       "|    └─Conv3d: 2-42                      [-1, 32, 128, 128, 128]   27,680\n",
       "|    └─InstanceNorm3d: 2-43              [-1, 32, 128, 128, 128]   --\n",
       "├─Sequential: 1                          []                        --\n",
       "|    └─ReLU: 2-44                        [-1, 32, 128, 128, 128]   --\n",
       "├─Sequential: 1                          []                        --\n",
       "|    └─ReLU: 2-45                        [-1, 32, 128, 128, 128]   --\n",
       "├─Conv3d: 1-10                           [-1, 1, 128, 128, 128]    865\n",
       "==========================================================================================\n",
       "Total params: 997,601\n",
       "Trainable params: 997,601\n",
       "Non-trainable params: 0\n",
       "Total mult-adds (G): 366.01\n",
       "==========================================================================================\n",
       "Input size (MB): 8.00\n",
       "Forward/backward pass size (MB): 2560.00\n",
       "Params size (MB): 3.81\n",
       "Estimated Total Size (MB): 2571.81\n",
       "=========================================================================================="
      ]
     },
     "execution_count": 10,
     "metadata": {},
     "output_type": "execute_result"
    }
   ],
   "source": [
    "summary(G_A, input_data)"
   ]
  },
  {
   "cell_type": "code",
   "execution_count": 11,
   "metadata": {},
   "outputs": [
    {
     "name": "stdout",
     "output_type": "stream",
     "text": [
      "initialize network with normal\n"
     ]
    }
   ],
   "source": [
    "D_A = Self_net_architecture.define_D(input_nc=input_nc, ndf=64, netD='n_layers', n_layers_D=2, device=device,norm='instance')"
   ]
  },
  {
   "cell_type": "code",
   "execution_count": 13,
   "metadata": {},
   "outputs": [],
   "source": [
    "input_data = torch.rand((1,1,128,128,128))"
   ]
  },
  {
   "cell_type": "code",
   "execution_count": 14,
   "metadata": {},
   "outputs": [
    {
     "name": "stdout",
     "output_type": "stream",
     "text": [
      "==========================================================================================\n",
      "Layer (type:depth-idx)                   Output Shape              Param #\n",
      "==========================================================================================\n",
      "├─Sequential: 1-1                        [-1, 1, 30, 30, 30]       --\n",
      "|    └─Conv3d: 2-1                       [-1, 64, 64, 64, 64]      4,160\n",
      "|    └─LeakyReLU: 2-2                    [-1, 64, 64, 64, 64]      --\n",
      "|    └─Conv3d: 2-3                       [-1, 128, 32, 32, 32]     524,416\n",
      "|    └─InstanceNorm3d: 2-4               [-1, 128, 32, 32, 32]     --\n",
      "|    └─LeakyReLU: 2-5                    [-1, 128, 32, 32, 32]     --\n",
      "|    └─Conv3d: 2-6                       [-1, 256, 31, 31, 31]     2,097,408\n",
      "|    └─InstanceNorm3d: 2-7               [-1, 256, 31, 31, 31]     --\n",
      "|    └─LeakyReLU: 2-8                    [-1, 256, 31, 31, 31]     --\n",
      "|    └─Conv3d: 2-9                       [-1, 1, 30, 30, 30]       16,385\n",
      "==========================================================================================\n",
      "Total params: 2,642,369\n",
      "Trainable params: 2,642,369\n",
      "Non-trainable params: 0\n",
      "Total mult-adds (G): 81.17\n",
      "==========================================================================================\n",
      "Input size (MB): 8.00\n",
      "Forward/backward pass size (MB): 218.39\n",
      "Params size (MB): 10.08\n",
      "Estimated Total Size (MB): 236.47\n",
      "==========================================================================================\n"
     ]
    },
    {
     "data": {
      "text/plain": [
       "==========================================================================================\n",
       "Layer (type:depth-idx)                   Output Shape              Param #\n",
       "==========================================================================================\n",
       "├─Sequential: 1-1                        [-1, 1, 30, 30, 30]       --\n",
       "|    └─Conv3d: 2-1                       [-1, 64, 64, 64, 64]      4,160\n",
       "|    └─LeakyReLU: 2-2                    [-1, 64, 64, 64, 64]      --\n",
       "|    └─Conv3d: 2-3                       [-1, 128, 32, 32, 32]     524,416\n",
       "|    └─InstanceNorm3d: 2-4               [-1, 128, 32, 32, 32]     --\n",
       "|    └─LeakyReLU: 2-5                    [-1, 128, 32, 32, 32]     --\n",
       "|    └─Conv3d: 2-6                       [-1, 256, 31, 31, 31]     2,097,408\n",
       "|    └─InstanceNorm3d: 2-7               [-1, 256, 31, 31, 31]     --\n",
       "|    └─LeakyReLU: 2-8                    [-1, 256, 31, 31, 31]     --\n",
       "|    └─Conv3d: 2-9                       [-1, 1, 30, 30, 30]       16,385\n",
       "==========================================================================================\n",
       "Total params: 2,642,369\n",
       "Trainable params: 2,642,369\n",
       "Non-trainable params: 0\n",
       "Total mult-adds (G): 81.17\n",
       "==========================================================================================\n",
       "Input size (MB): 8.00\n",
       "Forward/backward pass size (MB): 218.39\n",
       "Params size (MB): 10.08\n",
       "Estimated Total Size (MB): 236.47\n",
       "=========================================================================================="
      ]
     },
     "execution_count": 14,
     "metadata": {},
     "output_type": "execute_result"
    }
   ],
   "source": [
    "summary(D_A, input_data)"
   ]
  },
  {
   "cell_type": "code",
   "execution_count": 1,
   "metadata": {},
   "outputs": [],
   "source": [
    "from mwcnn import MWCNN3d"
   ]
  },
  {
   "cell_type": "code",
   "execution_count": 12,
   "metadata": {},
   "outputs": [],
   "source": [
    "net = MWCNN3d(1,1,2)"
   ]
  },
  {
   "cell_type": "code",
   "execution_count": 13,
   "metadata": {},
   "outputs": [],
   "source": [
    "input_data = torch.rand((1,1,128,128,128))"
   ]
  },
  {
   "cell_type": "code",
   "execution_count": 14,
   "metadata": {},
   "outputs": [
    {
     "name": "stdout",
     "output_type": "stream",
     "text": [
      "==========================================================================================\n",
      "Layer (type:depth-idx)                   Output Shape              Param #\n",
      "==========================================================================================\n",
      "├─DWT3d: 1-1                             [-1, 8, 64, 64, 64]       --\n",
      "├─ModuleList: 1                          []                        --\n",
      "|    └─DoubleConv3d: 2-1                 [-1, 8, 64, 64, 64]       --\n",
      "|    |    └─Sequential: 3-1              [-1, 8, 64, 64, 64]       3,488\n",
      "├─DWT3d: 1-2                             [-1, 64, 32, 32, 32]      --\n",
      "├─ModuleList: 1                          []                        --\n",
      "|    └─DoubleConv3d: 2-2                 [-1, 64, 32, 32, 32]      --\n",
      "|    |    └─Sequential: 3-2              [-1, 64, 32, 32, 32]      221,440\n",
      "├─DWT3d: 1-3                             [-1, 512, 16, 16, 16]     --\n",
      "├─DoubleConv3d: 1-4                      [-1, 512, 16, 16, 16]     --\n",
      "|    └─Sequential: 2-3                   [-1, 512, 16, 16, 16]     --\n",
      "|    |    └─Conv3d: 3-3                  [-1, 512, 16, 16, 16]     7,077,888\n",
      "|    |    └─BatchNorm3d: 3-4             [-1, 512, 16, 16, 16]     1,024\n",
      "|    |    └─ReLU: 3-5                    [-1, 512, 16, 16, 16]     --\n",
      "|    |    └─Conv3d: 3-6                  [-1, 512, 16, 16, 16]     7,077,888\n",
      "|    |    └─BatchNorm3d: 3-7             [-1, 512, 16, 16, 16]     1,024\n",
      "|    |    └─ReLU: 3-8                    [-1, 512, 16, 16, 16]     --\n",
      "├─IWT3d: 1-5                             [-1, 64, 32, 32, 32]      --\n",
      "├─ModuleList: 1                          []                        --\n",
      "|    └─DoubleConv3d: 2-4                 [-1, 64, 32, 32, 32]      --\n",
      "|    |    └─Sequential: 3-9              [-1, 64, 32, 32, 32]      221,440\n",
      "├─IWT3d: 1-6                             [-1, 8, 64, 64, 64]       --\n",
      "├─ModuleList: 1                          []                        --\n",
      "|    └─DoubleConv3d: 2-5                 [-1, 8, 64, 64, 64]       --\n",
      "|    |    └─Sequential: 3-10             [-1, 8, 64, 64, 64]       3,488\n",
      "├─IWT3d: 1-7                             [-1, 1, 128, 128, 128]    --\n",
      "├─Conv3d: 1-8                            [-1, 1, 128, 128, 128]    2\n",
      "==========================================================================================\n",
      "Total params: 14,607,682\n",
      "Trainable params: 14,607,682\n",
      "Non-trainable params: 0\n",
      "Total mult-adds (G): 74.32\n",
      "==========================================================================================\n",
      "Input size (MB): 8.00\n",
      "Forward/backward pass size (MB): 336.00\n",
      "Params size (MB): 55.72\n",
      "Estimated Total Size (MB): 399.72\n",
      "==========================================================================================\n"
     ]
    },
    {
     "data": {
      "text/plain": [
       "==========================================================================================\n",
       "Layer (type:depth-idx)                   Output Shape              Param #\n",
       "==========================================================================================\n",
       "├─DWT3d: 1-1                             [-1, 8, 64, 64, 64]       --\n",
       "├─ModuleList: 1                          []                        --\n",
       "|    └─DoubleConv3d: 2-1                 [-1, 8, 64, 64, 64]       --\n",
       "|    |    └─Sequential: 3-1              [-1, 8, 64, 64, 64]       3,488\n",
       "├─DWT3d: 1-2                             [-1, 64, 32, 32, 32]      --\n",
       "├─ModuleList: 1                          []                        --\n",
       "|    └─DoubleConv3d: 2-2                 [-1, 64, 32, 32, 32]      --\n",
       "|    |    └─Sequential: 3-2              [-1, 64, 32, 32, 32]      221,440\n",
       "├─DWT3d: 1-3                             [-1, 512, 16, 16, 16]     --\n",
       "├─DoubleConv3d: 1-4                      [-1, 512, 16, 16, 16]     --\n",
       "|    └─Sequential: 2-3                   [-1, 512, 16, 16, 16]     --\n",
       "|    |    └─Conv3d: 3-3                  [-1, 512, 16, 16, 16]     7,077,888\n",
       "|    |    └─BatchNorm3d: 3-4             [-1, 512, 16, 16, 16]     1,024\n",
       "|    |    └─ReLU: 3-5                    [-1, 512, 16, 16, 16]     --\n",
       "|    |    └─Conv3d: 3-6                  [-1, 512, 16, 16, 16]     7,077,888\n",
       "|    |    └─BatchNorm3d: 3-7             [-1, 512, 16, 16, 16]     1,024\n",
       "|    |    └─ReLU: 3-8                    [-1, 512, 16, 16, 16]     --\n",
       "├─IWT3d: 1-5                             [-1, 64, 32, 32, 32]      --\n",
       "├─ModuleList: 1                          []                        --\n",
       "|    └─DoubleConv3d: 2-4                 [-1, 64, 32, 32, 32]      --\n",
       "|    |    └─Sequential: 3-9              [-1, 64, 32, 32, 32]      221,440\n",
       "├─IWT3d: 1-6                             [-1, 8, 64, 64, 64]       --\n",
       "├─ModuleList: 1                          []                        --\n",
       "|    └─DoubleConv3d: 2-5                 [-1, 8, 64, 64, 64]       --\n",
       "|    |    └─Sequential: 3-10             [-1, 8, 64, 64, 64]       3,488\n",
       "├─IWT3d: 1-7                             [-1, 1, 128, 128, 128]    --\n",
       "├─Conv3d: 1-8                            [-1, 1, 128, 128, 128]    2\n",
       "==========================================================================================\n",
       "Total params: 14,607,682\n",
       "Trainable params: 14,607,682\n",
       "Non-trainable params: 0\n",
       "Total mult-adds (G): 74.32\n",
       "==========================================================================================\n",
       "Input size (MB): 8.00\n",
       "Forward/backward pass size (MB): 336.00\n",
       "Params size (MB): 55.72\n",
       "Estimated Total Size (MB): 399.72\n",
       "=========================================================================================="
      ]
     },
     "execution_count": 14,
     "metadata": {},
     "output_type": "execute_result"
    }
   ],
   "source": [
    "summary(net, input_data)"
   ]
  },
  {
   "cell_type": "code",
   "execution_count": null,
   "metadata": {},
   "outputs": [],
   "source": []
  }
 ],
 "metadata": {
  "kernelspec": {
   "display_name": "dm",
   "language": "python",
   "name": "python3"
  },
  "language_info": {
   "codemirror_mode": {
    "name": "ipython",
    "version": 3
   },
   "file_extension": ".py",
   "mimetype": "text/x-python",
   "name": "python",
   "nbconvert_exporter": "python",
   "pygments_lexer": "ipython3",
   "version": "3.10.8"
  },
  "orig_nbformat": 4
 },
 "nbformat": 4,
 "nbformat_minor": 2
}
